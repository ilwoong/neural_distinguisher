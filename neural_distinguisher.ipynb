{
 "cells": [
  {
   "cell_type": "markdown",
   "metadata": {},
   "source": [
    "# Neural Distinguisher of Reduced Round Speck 32/64\n",
    "\n",
    "## Speck 32/64\n",
    "\n",
    "Speck 32/64의 구현이 맞는지 테스트벡터를 우선 확인해보겠습니다."
   ]
  },
  {
   "cell_type": "code",
   "execution_count": null,
   "metadata": {},
   "outputs": [],
   "source": [
    "from speck import Speck\n",
    "\n",
    "cipher = Speck()\n",
    "cipher.check_testvector()"
   ]
  },
  {
   "cell_type": "markdown",
   "metadata": {},
   "source": [
    "## Neural Distinguisher\n",
    "\n",
    "Speck32/64의 5, 6, 7라운드 distinguisher의 모델을 생성하고 학습시켜보겠습니다. \n",
    "\n",
    "사용한 모델은 다음과 같습니다.자세한 코드는 train.py를 참고하면 됩니다.\n",
    "\n",
    "- 은닉계층이 2개인 DNN\n",
    "- Residual Block이 하나인 ResNet\n",
    "- Residual Block이 10개인 ResNet\n",
    "\n",
    "시간관계상 epoch를 1로 설정했습니다. \n",
    "\n",
    "매 epoch를 진행하면서 validation accuracy 가 가장 높은 상태를 .h5 확장자 파일로 저장합니다."
   ]
  },
  {
   "cell_type": "code",
   "execution_count": null,
   "metadata": {},
   "outputs": [],
   "source": [
    "import train\n",
    "\n",
    "train.train_all(epochs=1)"
   ]
  },
  {
   "cell_type": "markdown",
   "metadata": {},
   "source": [
    "epoch이 1이기 때문에 성능이 논문에 적힌 것보다 좋게 나오지 않습니다.\n",
    "\n",
    "제가 epoch을 200으로 하여 학습시킨 데이터를 trained_models 폴더에 옮겨두었습니다.\n",
    "\n",
    "해당 모델을 불러들여서 테스트 하는 코드가 evaluate.py에 구현되어 있습니다."
   ]
  },
  {
   "cell_type": "code",
   "execution_count": null,
   "metadata": {},
   "outputs": [],
   "source": [
    "import evaluate"
   ]
  },
  {
   "cell_type": "code",
   "execution_count": null,
   "metadata": {},
   "outputs": [],
   "source": [
    "#DNN 결과\n",
    "evaluate.evaluate_dnn()"
   ]
  },
  {
   "cell_type": "code",
   "execution_count": null,
   "metadata": {},
   "outputs": [],
   "source": [
    "#ResNet (block=1) 결과\n",
    "evaluate.evaluate_resnet(resnet_depth=1)"
   ]
  },
  {
   "cell_type": "code",
   "execution_count": null,
   "metadata": {},
   "outputs": [],
   "source": [
    "#ResNet (block=10) 결과\n",
    "evaluate.evaluate_resnet(resnet_depth=10)"
   ]
  },
  {
   "cell_type": "markdown",
   "metadata": {},
   "source": [
    "## Key Recovery Attack\n",
    "\n",
    "5라운드 distinguisher를 사용하여 6라운드 Speck 32/64의 키를 복구해보겠습니다.\n",
    "\n",
    "해당 코드는 key_recovery.py 에 구현되어 있습니다."
   ]
  },
  {
   "cell_type": "code",
   "execution_count": null,
   "metadata": {},
   "outputs": [],
   "source": [
    "import key_recovery\n",
    "\n",
    "key_recovery.attack(num_test=5, target_round=6)"
   ]
  }
 ],
 "metadata": {
  "kernelspec": {
   "display_name": "Python 3",
   "language": "python",
   "name": "python3"
  },
  "language_info": {
   "codemirror_mode": {
    "name": "ipython",
    "version": 3
   },
   "file_extension": ".py",
   "mimetype": "text/x-python",
   "name": "python",
   "nbconvert_exporter": "python",
   "pygments_lexer": "ipython3",
   "version": "3.6.6"
  }
 },
 "nbformat": 4,
 "nbformat_minor": 2
}
